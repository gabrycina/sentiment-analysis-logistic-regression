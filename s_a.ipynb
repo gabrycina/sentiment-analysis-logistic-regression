{
  "nbformat": 4,
  "nbformat_minor": 0,
  "metadata": {
    "colab": {
      "name": "s_a.ipynb",
      "provenance": [],
      "collapsed_sections": []
    },
    "kernelspec": {
      "name": "python3",
      "display_name": "Python 3"
    },
    "language_info": {
      "name": "python"
    }
  },
  "cells": [
    {
      "cell_type": "markdown",
      "metadata": {
        "id": "mlzQrCStLi_n"
      },
      "source": [
        "# Sentiment Analysis With Logistic Regression"
      ]
    },
    {
      "cell_type": "code",
      "metadata": {
        "id": "J42nL31PwBSM"
      },
      "source": [
        "# importing module\n",
        "import nltk\n",
        "nltk.download(\"popular\") #importing dataset\n",
        "from nltk.corpus import twitter_samples\n",
        "import numpy as np\n",
        "\n",
        "\n",
        "positive_sample = twitter_samples.strings('positive_tweets.json')\n",
        "negative_sample = twitter_samples.strings('negative_tweets.json')\n",
        "\n",
        "# how many sample do we have?\n",
        "print(len(positive_sample))\n",
        "print(len(negative_sample))\n"
      ],
      "execution_count": null,
      "outputs": []
    },
    {
      "cell_type": "markdown",
      "metadata": {
        "id": "1d2JBOgrL4Dr"
      },
      "source": [
        "Training And Testing Arrays Setup"
      ]
    },
    {
      "cell_type": "code",
      "metadata": {
        "id": "bWJbig5MxCKC"
      },
      "source": [
        "# train and test\n",
        "trainx = positive_sample[:4000] + negative_sample[:4000]\n",
        "testx = positive_sample[4000:] + negative_sample[4000:]\n",
        "\n",
        "trainy = np.append(np.ones((len(positive_sample[:4000]), 1)), np.zeros((len(negative_sample[:4000]), 1)), axis=0)\n",
        "testy = np.append(np.ones((len(positive_sample[4000:]), 1)), np.zeros((len(negative_sample[4000:]), 1)), axis=0)\n",
        "\n"
      ],
      "execution_count": null,
      "outputs": []
    },
    {
      "cell_type": "markdown",
      "metadata": {
        "id": "w5ohjnCyMUPW"
      },
      "source": [
        "Data Cleaning"
      ]
    },
    {
      "cell_type": "code",
      "metadata": {
        "id": "SVZRdCzFxw0m",
        "colab": {
          "base_uri": "https://localhost:8080/"
        },
        "outputId": "641259e5-fc02-409a-c80f-cb3955fdde9e"
      },
      "source": [
        "import re                                  \n",
        "import string\n",
        "from nltk.corpus import stopwords          \n",
        "from nltk.stem import PorterStemmer\n",
        "from nltk.tokenize import TweetTokenizer        \n",
        "\n",
        "def text_process(tweet):\n",
        "    tweet = re.sub(r'^RT[\\s]+', '', tweet)\n",
        "    tweet = re.sub(r'@[\\w]+', '', tweet)\n",
        "    tweet = re.sub(r'https?:\\/\\/.*[\\r\\n]*', '', tweet)\n",
        "    tweet = re.sub(r'#', '', tweet)\n",
        "    tokenizer = TweetTokenizer()\n",
        "    tweet_tokenized = tokenizer.tokenize(tweet)\n",
        "    stopwords_english = stopwords.words('english')\n",
        "    stemmer = PorterStemmer() \n",
        "\n",
        "    pron = ['i', 'you','he','she','it','we','they']\n",
        "    tweet_processed = [] \n",
        "    for word in tweet_tokenized:\n",
        "      if word not in stopwords_english and word not in string.punctuation:\n",
        "        word = word.lower()\n",
        "        if word in pron: continue\n",
        "        tweet_processed.append(stemmer.stem(word))\n",
        "\n",
        "    return tweet_processed\n",
        "\n",
        "print(negative_sample[1])\n",
        "text_process(negative_sample[1])"
      ],
      "execution_count": null,
      "outputs": [
        {
          "output_type": "stream",
          "text": [
            "Everything in the kids section of IKEA is so cute. Shame I'm nearly 19 in 2 months :(\n"
          ],
          "name": "stdout"
        },
        {
          "output_type": "execute_result",
          "data": {
            "text/plain": [
              "['everyth',\n",
              " 'kid',\n",
              " 'section',\n",
              " 'ikea',\n",
              " 'cute',\n",
              " 'shame',\n",
              " \"i'm\",\n",
              " 'nearli',\n",
              " '19',\n",
              " '2',\n",
              " 'month',\n",
              " ':(']"
            ]
          },
          "metadata": {
            "tags": []
          },
          "execution_count": 26
        }
      ]
    },
    {
      "cell_type": "markdown",
      "metadata": {
        "id": "wD7IdTgFM47j"
      },
      "source": [
        "Mapping Dataset's Words Frequency\n"
      ]
    },
    {
      "cell_type": "code",
      "metadata": {
        "id": "ec1By55Zzsxr"
      },
      "source": [
        "freq = {}\n",
        "words = []\n",
        "for tweet in positive_sample:\n",
        "  word_list = text_process(tweet)\n",
        "  for word in word_list:\n",
        "    words.append(word)\n",
        "\n",
        "for word in words:\n",
        "  if (word,1) in freq:\n",
        "    freq[(word,1)] +=1\n",
        "  else:\n",
        "    freq[(word,1)] = 1\n",
        "\n",
        "words = []\n",
        "for tweet in negative_sample:\n",
        "  word_list = text_process(tweet)\n",
        "  for word in word_list:\n",
        "    words.append(word)\n",
        "\n",
        "for word in words:\n",
        "  if (word,0) in freq:\n",
        "    freq[(word,0)] +=1\n",
        "  else:\n",
        "    freq[(word,0)] = 1\n",
        "\n"
      ],
      "execution_count": null,
      "outputs": []
    },
    {
      "cell_type": "code",
      "metadata": {
        "colab": {
          "base_uri": "https://localhost:8080/"
        },
        "id": "JcUBCPF1YkQW",
        "outputId": "817b9157-af84-407f-fb9e-70898cfec2cc"
      },
      "source": [
        "def features_extraction(tweet, freq):\n",
        "    word_l = text_process(tweet)\n",
        "    x = np.zeros((1, 3))\n",
        "    x[0,0] = 1 \n",
        "    for word in word_l:\n",
        "        try:\n",
        "            x[0,1] += freq[(word,1)]\n",
        "        except:\n",
        "            x[0,1] += 0\n",
        "        try: \n",
        "            x[0,2] += freq[(word,0)]\n",
        "        except:\n",
        "            x[0,2] += 0\n",
        "    return x\n",
        "\n",
        "X = np.zeros((len(trainx), 3))\n",
        "\n",
        "for i in range(len(trainx)):\n",
        "    X[i, :] = features_extraction(trainx[i], freq)\n",
        "\n",
        "print(X)"
      ],
      "execution_count": null,
      "outputs": [
        {
          "output_type": "stream",
          "text": [
            "[[1.000e+00 3.764e+03 7.200e+01]\n",
            " [1.000e+00 4.488e+03 5.400e+02]\n",
            " [1.000e+00 3.778e+03 1.990e+02]\n",
            " ...\n",
            " [1.000e+00 1.840e+02 9.890e+02]\n",
            " [1.000e+00 2.560e+02 4.855e+03]\n",
            " [1.000e+00 2.400e+02 4.967e+03]]\n"
          ],
          "name": "stdout"
        }
      ]
    },
    {
      "cell_type": "markdown",
      "metadata": {
        "id": "Lj761qIRNZr3"
      },
      "source": [
        "Logistic Regression Implementation"
      ]
    },
    {
      "cell_type": "code",
      "metadata": {
        "colab": {
          "base_uri": "https://localhost:8080/"
        },
        "id": "_GQE8L3fdbZl",
        "outputId": "2b2a485e-717f-4573-a3b9-c1a3c0ce6707"
      },
      "source": [
        "def sigmoid(x): \n",
        "    h = 1/(1+np.exp(-x))\n",
        "    return h\n",
        "\n",
        "def learn(x, y, alpha, num_iters):\n",
        "    theta = np.zeros((3,1))\n",
        "    m = x.shape[0]\n",
        "    for i in range(0, num_iters):\n",
        "        z = x @ theta\n",
        "        h = sigmoid(z)\n",
        "        J = -1/m*((y.T @ np.log(h))+((1-y).T @ np.log(1-h))) #Minimizing Cross entropy function\n",
        "        theta -= (alpha/m)*(x.T@(h-y))\n",
        "    return theta\n",
        "\n",
        "theta = learn(X,trainy, 1e-9, 1000)\n",
        "print(theta)"
      ],
      "execution_count": null,
      "outputs": [
        {
          "output_type": "stream",
          "text": [
            "[[ 4.82032151e-08]\n",
            " [ 4.30241790e-04]\n",
            " [-4.53463529e-04]]\n"
          ],
          "name": "stdout"
        }
      ]
    },
    {
      "cell_type": "markdown",
      "metadata": {
        "id": "nKam6B2TOQ-P"
      },
      "source": [
        "Testing and Validation"
      ]
    },
    {
      "cell_type": "code",
      "metadata": {
        "colab": {
          "base_uri": "https://localhost:8080/"
        },
        "id": "KSrMQ5ijgB-a",
        "outputId": "a34fdc2f-edc3-41eb-89dc-020f89d23f7e"
      },
      "source": [
        "def predict(tweet, freq, theta):\n",
        "    x = features_extraction(tweet,freq)\n",
        "    y_pred = sigmoid((x @ theta))\n",
        "    return  1 if y_pred > 0.5 else 0\n",
        "\n",
        "def test_accuracy(test_x, test_y, freq, theta):\n",
        "    y_hat = []\n",
        "    for tweet in test_x:   \n",
        "        y_pred = predict(tweet, freq, theta)\n",
        "        y_hat.append(y_pred)\n",
        "        \n",
        "    m = len(y_hat)\n",
        "    y_hat = np.array(y_hat)\n",
        "    y_hat = y_hat.reshape(m)\n",
        "    test_y = test_y.reshape(m)\n",
        "    \n",
        "    c = y_hat == test_y\n",
        "    j = 0\n",
        "    for i in c:\n",
        "        if i == True:\n",
        "            j = j+1\n",
        "    accuracy = j/m\n",
        "    return y_hat ,accuracy\n",
        "\n",
        "y_hat, accuracy = test_accuracy(testx, testy, freq, theta)\n",
        "accuracy"
      ],
      "execution_count": null,
      "outputs": [
        {
          "output_type": "execute_result",
          "data": {
            "text/plain": [
              "0.997"
            ]
          },
          "metadata": {
            "tags": []
          },
          "execution_count": 30
        }
      ]
    },
    {
      "cell_type": "code",
      "metadata": {
        "colab": {
          "base_uri": "https://localhost:8080/"
        },
        "id": "kWj2xTP-ijuS",
        "outputId": "517fc9c3-3775-4b84-cbe6-676743e95cd8"
      },
      "source": [
        "print(predict(\"Today is a beautiful day\",freq,theta))"
      ],
      "execution_count": null,
      "outputs": [
        {
          "output_type": "stream",
          "text": [
            "1\n"
          ],
          "name": "stdout"
        }
      ]
    },
    {
      "cell_type": "markdown",
      "metadata": {
        "id": "HudXyiJ7Tw2W"
      },
      "source": [
        "Confusion Matrix"
      ]
    },
    {
      "cell_type": "code",
      "metadata": {
        "colab": {
          "base_uri": "https://localhost:8080/",
          "height": 283
        },
        "id": "DSjyS1cQScqU",
        "outputId": "b6dc91dd-b099-4fc4-d1aa-3e2889b17947"
      },
      "source": [
        "import pandas as pd\n",
        "import seaborn as sn\n",
        "import matplotlib.pyplot as plt\n",
        "\n",
        "data = {'y_Actual':    testy.reshape(len(y_hat)),\n",
        "        'y_Predicted': y_hat\n",
        "        }\n",
        "\n",
        "df = pd.DataFrame(data, columns=['y_Actual','y_Predicted'])\n",
        "confusion_matrix = pd.crosstab(df['y_Actual'], df['y_Predicted'], rownames=['Actual'], colnames=['Predicted'])\n",
        "\n",
        "sn.heatmap(confusion_matrix, annot=True)\n",
        "plt.show()"
      ],
      "execution_count": null,
      "outputs": [
        {
          "output_type": "display_data",
          "data": {
            "image/png": "[encoded data removed]",
            "text/plain": [
              "<Figure size 432x288 with 2 Axes>"
            ]
          },
          "metadata": {
            "tags": [],
            "needs_background": "light"
          }
        }
      ]
    }
  ]
}